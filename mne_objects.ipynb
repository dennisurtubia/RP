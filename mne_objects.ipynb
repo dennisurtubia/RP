{
 "cells": [
  {
   "cell_type": "markdown",
   "metadata": {},
   "source": [
    "# Atividade 01 - Criando objetos MNE\n",
    "\n",
    "Dennis Felipe Urtubia e Pedro Perozin"
   ]
  },
  {
   "cell_type": "markdown",
   "metadata": {},
   "source": [
    "# Carregamento dos dados, labels e descritor"
   ]
  },
  {
   "cell_type": "code",
   "execution_count": 4,
   "metadata": {},
   "outputs": [
    {
     "name": "stdout",
     "output_type": "stream",
     "text": [
      "Estruturas => dados (125, 257, 1205) labels (125,)\n"
     ]
    }
   ],
   "source": [
    "import numpy as np\n",
    "import json\n",
    "import mne\n",
    "\n",
    "data = np.load('files/data.npy')\n",
    "labels = np.load('files/labels.npy')\n",
    "\n",
    "desc_file = open('files/descriptor.json')\n",
    "descriptor = json.loads(desc_file.read())\n",
    "desc_file.close()\n",
    "\n",
    "print('Estruturas => dados', data.shape, 'labels', labels.shape)"
   ]
  },
  {
   "cell_type": "markdown",
   "metadata": {},
   "source": [
    "# Criação do Objeto MNE"
   ]
  },
  {
   "cell_type": "code",
   "execution_count": 35,
   "metadata": {},
   "outputs": [
    {
     "name": "stdout",
     "output_type": "stream",
     "text": [
      "Creating RawArray with float64 data, n_channels=257, n_times=1205\n",
      "    Range : 0 ... 1204 =      0.000 ...     4.816 secs\n",
      "Ready.\n"
     ]
    }
   ],
   "source": [
    "sampling_frequency = 250\n",
    "ch_names = 257\n",
    "ch_types = 'eeg'\n",
    "\n",
    "# primeiramente devemos criar o objeto info\n",
    "info = mne.create_info(ch_names=ch_names, sfreq=sampling_frequency, ch_types=ch_types)\n",
    "\n",
    "# por fim a criação do objeto MNE simples\n",
    "raw = mne.io.RawArray(data[0], info)"
   ]
  },
  {
   "cell_type": "code",
   "execution_count": null,
   "metadata": {},
   "outputs": [],
   "source": []
  }
 ],
 "metadata": {
  "kernelspec": {
   "display_name": "Python 3",
   "language": "python",
   "name": "python3"
  },
  "language_info": {
   "codemirror_mode": {
    "name": "ipython",
    "version": 3
   },
   "file_extension": ".py",
   "mimetype": "text/x-python",
   "name": "python",
   "nbconvert_exporter": "python",
   "pygments_lexer": "ipython3",
   "version": "3.8.2"
  }
 },
 "nbformat": 4,
 "nbformat_minor": 4
}
