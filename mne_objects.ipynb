{
 "cells": [
  {
   "cell_type": "markdown",
   "metadata": {},
   "source": [
    "# Atividade 01 - Criando objetos MNE\n",
    "\n",
    "Dennis Felipe Urtubia e Pedro Perozin"
   ]
  },
  {
   "cell_type": "markdown",
   "metadata": {},
   "source": [
    "# Carregamento dos dados, labels e descritor"
   ]
  },
  {
   "cell_type": "code",
   "execution_count": 1,
   "metadata": {},
   "outputs": [
    {
     "name": "stdout",
     "output_type": "stream",
     "text": [
      "Estruturas => dados (125, 257, 1205) labels (125,)\n",
      "[4 2 3 5 1 2 5 4 2 3 1 5 4 3 2 4 1 2 5 3 4 1 3 1 3 4 2 3 5 1 2 5 4 2 3 1 5\n",
      " 4 3 2 4 1 2 5 3 4 1 3 1 3 4 2 3 5 1 2 5 4 2 3 1 5 4 3 2 4 1 2 5 3 4 1 3 1\n",
      " 3 4 2 3 5 1 2 5 4 2 3 1 5 4 3 2 4 1 2 5 3 4 1 3 1 3 4 2 3 5 1 2 5 4 2 3 1\n",
      " 5 4 3 2 4 1 2 5 3 4 1 3 1 3]\n"
     ]
    }
   ],
   "source": [
    "import numpy as np\n",
    "import json\n",
    "import mne\n",
    "import scipy\n",
    "import matplotlib\n",
    "from sklearn.model_selection import train_test_split\n",
    "from sklearn.svm import SVC\n",
    "\n",
    "data = np.load('files/data.npy')\n",
    "labels = np.load('files/labels.npy')\n",
    "\n",
    "desc_file = open('files/descriptor.json')\n",
    "descriptor = json.loads(desc_file.read())\n",
    "desc_file.close()\n",
    "\n",
    "print('Estruturas => dados', data.shape, 'labels', labels.shape)\n",
    "print(labels)"
   ]
  },
  {
   "cell_type": "markdown",
   "metadata": {},
   "source": [
    "# Criação do EpochsArray"
   ]
  },
  {
   "cell_type": "code",
   "execution_count": 2,
   "metadata": {},
   "outputs": [
    {
     "name": "stdout",
     "output_type": "stream",
     "text": [
      "125 matching events found\n",
      "No baseline correction applied\n",
      "Not setting metadata\n",
      "0 projection items activated\n",
      "0 bad epochs dropped\n",
      "\n"
     ]
    }
   ],
   "source": [
    "data = data[:,:256,:]\n",
    "\n",
    "trial_duration = 5\n",
    "sampling_frequency = data.shape[-1] / trial_duration\n",
    "montage = mne.channels.make_standard_montage('EGI_256')\n",
    "ch_names = data.shape[1]\n",
    "ch_types = 'eeg'\n",
    "\n",
    "# primeiramente devemos criar o objeto info\n",
    "info = mne.create_info(montage.ch_names, sampling_frequency, ch_types)\n",
    "\n",
    "#set experiments montage\n",
    "info.set_montage(montage)\n",
    "\n",
    "# por fim a criação do EpochsArray\n",
    "events = np.array([[index, 0, event] for index, event in enumerate(labels)])\n",
    "#objeto MNE epoch\n",
    "epoch = mne.EpochsArray(data, info, events)\n",
    "\n",
    "print()"
   ]
  },
  {
   "cell_type": "markdown",
   "metadata": {},
   "source": [
    "# Plot de gráficos"
   ]
  },
  {
   "cell_type": "code",
   "execution_count": null,
   "metadata": {},
   "outputs": [],
   "source": [
    "# plotando o padrão EGI 256\n",
    "print('EGI 256')\n",
    "montage.plot()\n",
    "\n",
    "# Filtrando apenas dados dos eletrodos O1, Oz e O2\n",
    "filtered_epoch = epoch.copy().pick_channels(['E116', 'E126', 'E150','E106','E107','E108','E109','E119','E140','E151','E160','E169'])\n",
    "\n",
    "filtered_epoch.filter(l_freq = 5.0, h_freq = 14.0)\n",
    "\n",
    "e = '4'\n",
    "\n",
    "for i in range(2):\n",
    "    filtered_epoch[e][i].plot_psd(fmin=5., fmax=14.)\n",
    "\n",
    "matplotlib.rcParams['figure.figsize'] = [12., 8.]\n",
    "filtered_epoch[e].plot_psd(fmin = 5., fmax = 14.)\n",
    "print()"
   ]
  },
  {
   "cell_type": "markdown",
   "metadata": {},
   "source": [
    "# Aplicando filtros espaciais (Melhorar descrição)"
   ]
  },
  {
   "cell_type": "code",
   "execution_count": 3,
   "metadata": {},
   "outputs": [
    {
     "name": "stdout",
     "output_type": "stream",
     "text": [
      "Setting up band-pass filter from 5 - 14 Hz\n",
      "\n",
      "FIR filter parameters\n",
      "---------------------\n",
      "Designing a one-pass, zero-phase, non-causal bandpass filter:\n",
      "- Windowed time-domain design (firwin) method\n",
      "- Hamming window with 0.0194 passband ripple and 53 dB stopband attenuation\n",
      "- Lower passband edge: 5.00\n",
      "- Lower transition bandwidth: 2.00 Hz (-6 dB cutoff frequency: 4.00 Hz)\n",
      "- Upper passband edge: 14.00 Hz\n",
      "- Upper transition bandwidth: 3.50 Hz (-6 dB cutoff frequency: 15.75 Hz)\n",
      "- Filter length: 399 samples (1.656 sec)\n",
      "\n",
      "EEG channel type selected for re-referencing\n",
      "Applying a custom EEG reference.\n",
      "Setting up low-pass filter at 14 Hz\n",
      "\n",
      "FIR filter parameters\n",
      "---------------------\n",
      "Designing a one-pass, zero-phase, non-causal lowpass filter:\n",
      "- Windowed time-domain design (firwin) method\n",
      "- Hamming window with 0.0194 passband ripple and 53 dB stopband attenuation\n",
      "- Upper passband edge: 14.00 Hz\n",
      "- Upper transition bandwidth: 3.50 Hz (-6 dB cutoff frequency: 15.75 Hz)\n",
      "- Filter length: 227 samples (0.942 sec)\n",
      "\n",
      "Setting up high-pass filter at 5 Hz\n",
      "\n",
      "FIR filter parameters\n",
      "---------------------\n",
      "Designing a one-pass, zero-phase, non-causal highpass filter:\n",
      "- Windowed time-domain design (firwin) method\n",
      "- Hamming window with 0.0194 passband ripple and 53 dB stopband attenuation\n",
      "- Lower passband edge: 5.00\n",
      "- Lower transition bandwidth: 2.00 Hz (-6 dB cutoff frequency: 4.00 Hz)\n",
      "- Filter length: 399 samples (1.656 sec)\n",
      "\n",
      "Setting up band-pass filter from 5 - 14 Hz\n",
      "\n",
      "FIR filter parameters\n",
      "---------------------\n",
      "Designing a one-pass, zero-phase, non-causal bandpass filter:\n",
      "- Windowed time-domain design (firwin) method\n",
      "- Hamming window with 0.0194 passband ripple and 53 dB stopband attenuation\n",
      "- Lower passband edge: 5.00\n",
      "- Lower transition bandwidth: 2.00 Hz (-6 dB cutoff frequency: 4.00 Hz)\n",
      "- Upper passband edge: 14.00 Hz\n",
      "- Upper transition bandwidth: 3.50 Hz (-6 dB cutoff frequency: 15.75 Hz)\n",
      "- Filter length: 399 samples (1.656 sec)\n",
      "\n",
      "Setting up high-pass filter at 5 Hz\n",
      "\n",
      "FIR filter parameters\n",
      "---------------------\n",
      "Designing a one-pass, zero-phase, non-causal highpass filter:\n",
      "- Windowed time-domain design (firwin) method\n",
      "- Hamming window with 0.0194 passband ripple and 53 dB stopband attenuation\n",
      "- Lower passband edge: 5.00\n",
      "- Lower transition bandwidth: 2.00 Hz (-6 dB cutoff frequency: 4.00 Hz)\n",
      "- Filter length: 399 samples (1.656 sec)\n",
      "\n",
      "Setting up low-pass filter at 14 Hz\n",
      "\n",
      "FIR filter parameters\n",
      "---------------------\n",
      "Designing a one-pass, zero-phase, non-causal lowpass filter:\n",
      "- Windowed time-domain design (firwin) method\n",
      "- Hamming window with 0.0194 passband ripple and 53 dB stopband attenuation\n",
      "- Upper passband edge: 14.00 Hz\n",
      "- Upper transition bandwidth: 3.50 Hz (-6 dB cutoff frequency: 15.75 Hz)\n",
      "- Filter length: 227 samples (0.942 sec)\n",
      "\n"
     ]
    },
    {
     "data": {
      "text/plain": [
       "<EpochsArray  |   125 events (all good), 0 - 4.99585 sec, baseline off, ~14.0 MB, data loaded,\n",
       " '1': 25\n",
       " '2': 25\n",
       " '3': 30\n",
       " '4': 25\n",
       " '5': 20>"
      ]
     },
     "execution_count": 3,
     "metadata": {},
     "output_type": "execute_result"
    }
   ],
   "source": [
    "filtered_epoch = epoch.copy().pick_channels(['E116', 'E126', 'E150','E106','E107','E108','E109','E119','E140','E151','E160','E169'])\n",
    "\n",
    "filtered_epoch.filter(l_freq = 5.0, h_freq = 14.0)\n",
    "\n",
    "# CAR\n",
    "epoch_ref = mne.set_eeg_reference(filtered_epoch, ref_channels=['E116', 'E126', 'E150','E106','E107','E108','E109','E119','E140','E151','E160','E169'])\n",
    "epoch_ref\n",
    "\n",
    "# Limitando as frequências\n",
    "fmin = 5.0\n",
    "fmax = 14.0\n",
    "\n",
    "# filtros\n",
    "epoch_highpass = epoch_ref[0].copy().filter(l_freq=None, h_freq=fmax)\n",
    "epoch_lowpass = epoch_ref[0].copy().filter(l_freq=fmin, h_freq=None)\n",
    "epoch_bandpass = epoch_ref[0].copy().filter(l_freq=fmin, h_freq=fmax)\n",
    "epoch_bandpass2 = epoch_ref[0].copy().filter(l_freq=fmin, h_freq=None)\n",
    "epoch_bandpass2.filter(l_freq=None, h_freq=fmax)"
   ]
  },
  {
   "cell_type": "code",
   "execution_count": null,
   "metadata": {},
   "outputs": [],
   "source": [
    "epoch.save('files/ssvep-epo.fif', overwrite=True)"
   ]
  },
  {
   "cell_type": "markdown",
   "metadata": {},
   "source": [
    "# Transformada"
   ]
  },
  {
   "cell_type": "code",
   "execution_count": 4,
   "metadata": {},
   "outputs": [],
   "source": [
    "from scipy.signal import stft\n",
    "\n",
    "data = epoch.get_data()\n",
    "_, _, w = stft(data, fs=241, nperseg=32, noverlap=16)"
   ]
  },
  {
   "cell_type": "markdown",
   "metadata": {},
   "source": [
    "# Extração de características"
   ]
  },
  {
   "cell_type": "code",
   "execution_count": 5,
   "metadata": {},
   "outputs": [],
   "source": [
    "# PSD\n",
    "W = np.abs(w) ** 2\n",
    "\n",
    "fmn = np.mean(W, axis=-1)\n",
    "\n",
    "rss = np.sqrt(np.sum(W, axis=-1))"
   ]
  },
  {
   "cell_type": "markdown",
   "metadata": {},
   "source": [
    "## Finalizando o vetor de características"
   ]
  },
  {
   "cell_type": "code",
   "execution_count": 6,
   "metadata": {},
   "outputs": [
    {
     "name": "stdout",
     "output_type": "stream",
     "text": [
      "Shape dos dados: (2125, 512)\n"
     ]
    }
   ],
   "source": [
    "# finalizando o exemplo com a junção das duas características criadas\n",
    "features = list()\n",
    "for feature in (fmn, rss,):\n",
    "    feature = feature.transpose(0, 2, 1)\n",
    "    feature = feature.reshape(feature.shape[0] * feature.shape[1], feature.shape[2])\n",
    "    features.append(feature)\n",
    "\n",
    "# vetor de características final\n",
    "X = np.concatenate(features, axis=-1)\n",
    "print('Shape dos dados:', X.shape)"
   ]
  },
  {
   "cell_type": "markdown",
   "metadata": {},
   "source": [
    "## Adaptação do vetor de labels"
   ]
  },
  {
   "cell_type": "code",
   "execution_count": 7,
   "metadata": {},
   "outputs": [
    {
     "name": "stdout",
     "output_type": "stream",
     "text": [
      "Shape original dos labels (125,)\n",
      "Shape final dos labels (2125,)\n"
     ]
    }
   ],
   "source": [
    "y = np.load('files/labels.npy')\n",
    "print('Shape original dos labels', y.shape)\n",
    "\n",
    "size = int(X.shape[0] / y.shape[0])\n",
    "y = np.concatenate([y for i in range(size)])\n",
    "print('Shape final dos labels', y.shape)"
   ]
  },
  {
   "cell_type": "markdown",
   "metadata": {},
   "source": [
    "# Classificação"
   ]
  },
  {
   "cell_type": "markdown",
   "metadata": {},
   "source": [
    "### SVM - Support Vector Machine"
   ]
  },
  {
   "cell_type": "code",
   "execution_count": null,
   "metadata": {},
   "outputs": [],
   "source": [
    "for count in range(50):\n",
    "    for kernel in ['linear', 'poly', 'rbf', 'sigmoid']:\n",
    "        for gamma in [10, 1, 0.1, 0.01, 0.001, 0.0001, 0.00001, 0.000001]:\n",
    "            for C in [0.01, 0.1, 1, 10, 100, 1000]:\n",
    "                X_train, X_test, y_train, y_test = train_test_split(\n",
    "                    X, y, train_size=0.7, shuffle=True)\n",
    "                clf = SVC(kernel=kernel,gamma=0.0001, C=C)\n",
    "                clf = clf.fit(X_train, y_train)\n",
    "                res = clf.predict(X_test)\n",
    "                if ( 100*metrics.accuracy_score(y_test, res) >= 86.0): # 92\n",
    "                    print(count)\n",
    "                    print('Kernel:{} | Gamma:{} e C:{} | Accuracy: {:.2f}%'.format(\n",
    "                        kernel, gamma, C, 100*metrics.accuracy_score(y_test, res)))"
   ]
  }
 ],
 "metadata": {
  "kernelspec": {
   "display_name": "Python 3",
   "language": "python",
   "name": "python3"
  },
  "language_info": {
   "codemirror_mode": {
    "name": "ipython",
    "version": 3
   },
   "file_extension": ".py",
   "mimetype": "text/x-python",
   "name": "python",
   "nbconvert_exporter": "python",
   "pygments_lexer": "ipython3",
   "version": "3.8.2"
  }
 },
 "nbformat": 4,
 "nbformat_minor": 4
}
