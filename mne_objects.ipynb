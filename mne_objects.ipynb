{
 "cells": [
  {
   "cell_type": "markdown",
   "metadata": {},
   "source": [
    "# Atividade 01 - Criando objetos MNE\n",
    "\n",
    "Dennis Felipe Urtubia e Pedro Perozin"
   ]
  },
  {
   "cell_type": "markdown",
   "metadata": {},
   "source": [
    "# Carregamento dos dados, labels e descritor"
   ]
  },
  {
   "cell_type": "code",
   "execution_count": 15,
   "metadata": {},
   "outputs": [
    {
     "name": "stdout",
     "output_type": "stream",
     "text": [
      "Estruturas => dados (125, 257, 1205) labels (125,)\n"
     ]
    }
   ],
   "source": [
    "import numpy as np\n",
    "import json\n",
    "import mne\n",
    "\n",
    "data = np.load('files/data.npy')\n",
    "labels = np.load('files/labels.npy')\n",
    "\n",
    "desc_file = open('files/descriptor.json')\n",
    "descriptor = json.loads(desc_file.read())\n",
    "desc_file.close()\n",
    "\n",
    "print('Estruturas => dados', data.shape, 'labels', labels.shape)"
   ]
  },
  {
   "cell_type": "markdown",
   "metadata": {},
   "source": [
    "# Criação do EpochsArray"
   ]
  },
  {
   "cell_type": "code",
   "execution_count": 26,
   "metadata": {},
   "outputs": [
    {
     "name": "stdout",
     "output_type": "stream",
     "text": [
      "(125, 256, 1205)\n",
      "125 matching events found\n",
      "No baseline correction applied\n",
      "Not setting metadata\n",
      "0 projection items activated\n",
      "0 bad epochs dropped\n"
     ]
    },
    {
     "ename": "ValueError",
     "evalue": "DigMontage is a only a subset of info. There are 256 channel positions not present in the DigMontage. The required channels are: ['0', '1', '2', '3', '4', '5', '6', '7', '8', '9', '10', '11', '12', '13', '14', '15', '16', '17', '18', '19', '20', '21', '22', '23', '24', '25', '26', '27', '28', '29', '30', '31', '32', '33', '34', '35', '36', '37', '38', '39', '40', '41', '42', '43', '44', '45', '46', '47', '48', '49', '50', '51', '52', '53', '54', '55', '56', '57', '58', '59', '60', '61', '62', '63', '64', '65', '66', '67', '68', '69', '70', '71', '72', '73', '74', '75', '76', '77', '78', '79', '80', '81', '82', '83', '84', '85', '86', '87', '88', '89', '90', '91', '92', '93', '94', '95', '96', '97', '98', '99', '100', '101', '102', '103', '104', '105', '106', '107', '108', '109', '110', '111', '112', '113', '114', '115', '116', '117', '118', '119', '120', '121', '122', '123', '124', '125', '126', '127', '128', '129', '130', '131', '132', '133', '134', '135', '136', '137', '138', '139', '140', '141', '142', '143', '144', '145', '146', '147', '148', '149', '150', '151', '152', '153', '154', '155', '156', '157', '158', '159', '160', '161', '162', '163', '164', '165', '166', '167', '168', '169', '170', '171', '172', '173', '174', '175', '176', '177', '178', '179', '180', '181', '182', '183', '184', '185', '186', '187', '188', '189', '190', '191', '192', '193', '194', '195', '196', '197', '198', '199', '200', '201', '202', '203', '204', '205', '206', '207', '208', '209', '210', '211', '212', '213', '214', '215', '216', '217', '218', '219', '220', '221', '222', '223', '224', '225', '226', '227', '228', '229', '230', '231', '232', '233', '234', '235', '236', '237', '238', '239', '240', '241', '242', '243', '244', '245', '246', '247', '248', '249', '250', '251', '252', '253', '254', '255']",
     "output_type": "error",
     "traceback": [
      "\u001b[0;31m---------------------------------------------------------------------------\u001b[0m",
      "\u001b[0;31mValueError\u001b[0m                                Traceback (most recent call last)",
      "\u001b[0;32m<ipython-input-26-32cd1d26e6ef>\u001b[0m in \u001b[0;36m<module>\u001b[0;34m\u001b[0m\n\u001b[1;32m     17\u001b[0m \u001b[0;34m\u001b[0m\u001b[0m\n\u001b[1;32m     18\u001b[0m \u001b[0mkind\u001b[0m \u001b[0;34m=\u001b[0m \u001b[0;34m'GSN-HydroCel-256'\u001b[0m\u001b[0;34m\u001b[0m\u001b[0;34m\u001b[0m\u001b[0m\n\u001b[0;32m---> 19\u001b[0;31m \u001b[0mepoch_array\u001b[0m\u001b[0;34m.\u001b[0m\u001b[0mset_montage\u001b[0m\u001b[0;34m(\u001b[0m\u001b[0mkind\u001b[0m\u001b[0;34m)\u001b[0m\u001b[0;34m\u001b[0m\u001b[0;34m\u001b[0m\u001b[0m\n\u001b[0m",
      "\u001b[0;32m<decorator-gen-20>\u001b[0m in \u001b[0;36mset_montage\u001b[0;34m(self, montage, raise_if_subset, match_case, verbose)\u001b[0m\n",
      "\u001b[0;32m~/.local/lib/python3.8/site-packages/mne/io/meas_info.py\u001b[0m in \u001b[0;36mset_montage\u001b[0;34m(self, montage, raise_if_subset, match_case, verbose)\u001b[0m\n\u001b[1;32m    188\u001b[0m         \u001b[0;32mfrom\u001b[0m \u001b[0;34m.\u001b[0m\u001b[0;34m.\u001b[0m\u001b[0mchannels\u001b[0m\u001b[0;34m.\u001b[0m\u001b[0mmontage\u001b[0m \u001b[0;32mimport\u001b[0m \u001b[0m_set_montage\u001b[0m\u001b[0;34m\u001b[0m\u001b[0;34m\u001b[0m\u001b[0m\n\u001b[1;32m    189\u001b[0m         \u001b[0minfo\u001b[0m \u001b[0;34m=\u001b[0m \u001b[0mself\u001b[0m \u001b[0;32mif\u001b[0m \u001b[0misinstance\u001b[0m\u001b[0;34m(\u001b[0m\u001b[0mself\u001b[0m\u001b[0;34m,\u001b[0m \u001b[0mInfo\u001b[0m\u001b[0;34m)\u001b[0m \u001b[0;32melse\u001b[0m \u001b[0mself\u001b[0m\u001b[0;34m.\u001b[0m\u001b[0minfo\u001b[0m\u001b[0;34m\u001b[0m\u001b[0;34m\u001b[0m\u001b[0m\n\u001b[0;32m--> 190\u001b[0;31m         \u001b[0m_set_montage\u001b[0m\u001b[0;34m(\u001b[0m\u001b[0minfo\u001b[0m\u001b[0;34m,\u001b[0m \u001b[0mmontage\u001b[0m\u001b[0;34m,\u001b[0m \u001b[0mraise_if_subset\u001b[0m\u001b[0;34m,\u001b[0m \u001b[0mmatch_case\u001b[0m\u001b[0;34m)\u001b[0m\u001b[0;34m\u001b[0m\u001b[0;34m\u001b[0m\u001b[0m\n\u001b[0m\u001b[1;32m    191\u001b[0m         \u001b[0;32mreturn\u001b[0m \u001b[0mself\u001b[0m\u001b[0;34m\u001b[0m\u001b[0;34m\u001b[0m\u001b[0m\n\u001b[1;32m    192\u001b[0m \u001b[0;34m\u001b[0m\u001b[0m\n",
      "\u001b[0;32m~/.local/lib/python3.8/site-packages/mne/channels/montage.py\u001b[0m in \u001b[0;36m_set_montage\u001b[0;34m(info, montage, raise_if_subset, match_case)\u001b[0m\n\u001b[1;32m    736\u001b[0m                    (len(not_in_montage), _pl(not_in_montage), not_in_montage))\n\u001b[1;32m    737\u001b[0m             \u001b[0;32mif\u001b[0m \u001b[0mraise_if_subset\u001b[0m\u001b[0;34m:\u001b[0m\u001b[0;34m\u001b[0m\u001b[0;34m\u001b[0m\u001b[0m\n\u001b[0;32m--> 738\u001b[0;31m                 \u001b[0;32mraise\u001b[0m \u001b[0mValueError\u001b[0m\u001b[0;34m(\u001b[0m\u001b[0mmsg\u001b[0m\u001b[0;34m)\u001b[0m\u001b[0;34m\u001b[0m\u001b[0;34m\u001b[0m\u001b[0m\n\u001b[0m\u001b[1;32m    739\u001b[0m             \u001b[0;32melse\u001b[0m\u001b[0;34m:\u001b[0m\u001b[0;34m\u001b[0m\u001b[0;34m\u001b[0m\u001b[0m\n\u001b[1;32m    740\u001b[0m                 \u001b[0mwarn\u001b[0m\u001b[0;34m(\u001b[0m\u001b[0mmsg\u001b[0m\u001b[0;34m)\u001b[0m\u001b[0;34m\u001b[0m\u001b[0;34m\u001b[0m\u001b[0m\n",
      "\u001b[0;31mValueError\u001b[0m: DigMontage is a only a subset of info. There are 256 channel positions not present in the DigMontage. The required channels are: ['0', '1', '2', '3', '4', '5', '6', '7', '8', '9', '10', '11', '12', '13', '14', '15', '16', '17', '18', '19', '20', '21', '22', '23', '24', '25', '26', '27', '28', '29', '30', '31', '32', '33', '34', '35', '36', '37', '38', '39', '40', '41', '42', '43', '44', '45', '46', '47', '48', '49', '50', '51', '52', '53', '54', '55', '56', '57', '58', '59', '60', '61', '62', '63', '64', '65', '66', '67', '68', '69', '70', '71', '72', '73', '74', '75', '76', '77', '78', '79', '80', '81', '82', '83', '84', '85', '86', '87', '88', '89', '90', '91', '92', '93', '94', '95', '96', '97', '98', '99', '100', '101', '102', '103', '104', '105', '106', '107', '108', '109', '110', '111', '112', '113', '114', '115', '116', '117', '118', '119', '120', '121', '122', '123', '124', '125', '126', '127', '128', '129', '130', '131', '132', '133', '134', '135', '136', '137', '138', '139', '140', '141', '142', '143', '144', '145', '146', '147', '148', '149', '150', '151', '152', '153', '154', '155', '156', '157', '158', '159', '160', '161', '162', '163', '164', '165', '166', '167', '168', '169', '170', '171', '172', '173', '174', '175', '176', '177', '178', '179', '180', '181', '182', '183', '184', '185', '186', '187', '188', '189', '190', '191', '192', '193', '194', '195', '196', '197', '198', '199', '200', '201', '202', '203', '204', '205', '206', '207', '208', '209', '210', '211', '212', '213', '214', '215', '216', '217', '218', '219', '220', '221', '222', '223', '224', '225', '226', '227', '228', '229', '230', '231', '232', '233', '234', '235', '236', '237', '238', '239', '240', '241', '242', '243', '244', '245', '246', '247', '248', '249', '250', '251', '252', '253', '254', '255']"
     ]
    }
   ],
   "source": [
    "data = data[:,:256,:]\n",
    "print(data.shape)\n",
    "\n",
    "trial_duration = 5\n",
    "sampling_frequency = data.shape[-1] / trial_duration\n",
    "\n",
    "ch_names = data.shape[1]\n",
    "ch_types = 'eeg'\n",
    "\n",
    "# primeiramente devemos criar o objeto info\n",
    "info = mne.create_info(ch_names, sampling_frequency, ch_types)\n",
    "\n",
    "events = np.array([[index, 0, event] for index, event in enumerate(labels)])\n",
    "\n",
    "# por fim a criação do EpochsArray\n",
    "epoch_array = mne.EpochsArray(data, info, events)\n",
    "\n",
    "\n",
    "# TODO setar set_montage\n",
    "kind = 'GSN-HydroCel-256'\n",
    "epoch_array.set_montage(kind)"
   ]
  },
  {
   "cell_type": "code",
   "execution_count": 19,
   "metadata": {},
   "outputs": [
    {
     "data": {
      "text/plain": [
       "array([[  0,   0,   4],\n",
       "       [  1,   0,   2],\n",
       "       [  2,   0,   3],\n",
       "       [  3,   0,   5],\n",
       "       [  4,   0,   1],\n",
       "       [  5,   0,   2],\n",
       "       [  6,   0,   5],\n",
       "       [  7,   0,   4],\n",
       "       [  8,   0,   2],\n",
       "       [  9,   0,   3],\n",
       "       [ 10,   0,   1],\n",
       "       [ 11,   0,   5],\n",
       "       [ 12,   0,   4],\n",
       "       [ 13,   0,   3],\n",
       "       [ 14,   0,   2],\n",
       "       [ 15,   0,   4],\n",
       "       [ 16,   0,   1],\n",
       "       [ 17,   0,   2],\n",
       "       [ 18,   0,   5],\n",
       "       [ 19,   0,   3],\n",
       "       [ 20,   0,   4],\n",
       "       [ 21,   0,   1],\n",
       "       [ 22,   0,   3],\n",
       "       [ 23,   0,   1],\n",
       "       [ 24,   0,   3],\n",
       "       [ 25,   0,   4],\n",
       "       [ 26,   0,   2],\n",
       "       [ 27,   0,   3],\n",
       "       [ 28,   0,   5],\n",
       "       [ 29,   0,   1],\n",
       "       [ 30,   0,   2],\n",
       "       [ 31,   0,   5],\n",
       "       [ 32,   0,   4],\n",
       "       [ 33,   0,   2],\n",
       "       [ 34,   0,   3],\n",
       "       [ 35,   0,   1],\n",
       "       [ 36,   0,   5],\n",
       "       [ 37,   0,   4],\n",
       "       [ 38,   0,   3],\n",
       "       [ 39,   0,   2],\n",
       "       [ 40,   0,   4],\n",
       "       [ 41,   0,   1],\n",
       "       [ 42,   0,   2],\n",
       "       [ 43,   0,   5],\n",
       "       [ 44,   0,   3],\n",
       "       [ 45,   0,   4],\n",
       "       [ 46,   0,   1],\n",
       "       [ 47,   0,   3],\n",
       "       [ 48,   0,   1],\n",
       "       [ 49,   0,   3],\n",
       "       [ 50,   0,   4],\n",
       "       [ 51,   0,   2],\n",
       "       [ 52,   0,   3],\n",
       "       [ 53,   0,   5],\n",
       "       [ 54,   0,   1],\n",
       "       [ 55,   0,   2],\n",
       "       [ 56,   0,   5],\n",
       "       [ 57,   0,   4],\n",
       "       [ 58,   0,   2],\n",
       "       [ 59,   0,   3],\n",
       "       [ 60,   0,   1],\n",
       "       [ 61,   0,   5],\n",
       "       [ 62,   0,   4],\n",
       "       [ 63,   0,   3],\n",
       "       [ 64,   0,   2],\n",
       "       [ 65,   0,   4],\n",
       "       [ 66,   0,   1],\n",
       "       [ 67,   0,   2],\n",
       "       [ 68,   0,   5],\n",
       "       [ 69,   0,   3],\n",
       "       [ 70,   0,   4],\n",
       "       [ 71,   0,   1],\n",
       "       [ 72,   0,   3],\n",
       "       [ 73,   0,   1],\n",
       "       [ 74,   0,   3],\n",
       "       [ 75,   0,   4],\n",
       "       [ 76,   0,   2],\n",
       "       [ 77,   0,   3],\n",
       "       [ 78,   0,   5],\n",
       "       [ 79,   0,   1],\n",
       "       [ 80,   0,   2],\n",
       "       [ 81,   0,   5],\n",
       "       [ 82,   0,   4],\n",
       "       [ 83,   0,   2],\n",
       "       [ 84,   0,   3],\n",
       "       [ 85,   0,   1],\n",
       "       [ 86,   0,   5],\n",
       "       [ 87,   0,   4],\n",
       "       [ 88,   0,   3],\n",
       "       [ 89,   0,   2],\n",
       "       [ 90,   0,   4],\n",
       "       [ 91,   0,   1],\n",
       "       [ 92,   0,   2],\n",
       "       [ 93,   0,   5],\n",
       "       [ 94,   0,   3],\n",
       "       [ 95,   0,   4],\n",
       "       [ 96,   0,   1],\n",
       "       [ 97,   0,   3],\n",
       "       [ 98,   0,   1],\n",
       "       [ 99,   0,   3],\n",
       "       [100,   0,   4],\n",
       "       [101,   0,   2],\n",
       "       [102,   0,   3],\n",
       "       [103,   0,   5],\n",
       "       [104,   0,   1],\n",
       "       [105,   0,   2],\n",
       "       [106,   0,   5],\n",
       "       [107,   0,   4],\n",
       "       [108,   0,   2],\n",
       "       [109,   0,   3],\n",
       "       [110,   0,   1],\n",
       "       [111,   0,   5],\n",
       "       [112,   0,   4],\n",
       "       [113,   0,   3],\n",
       "       [114,   0,   2],\n",
       "       [115,   0,   4],\n",
       "       [116,   0,   1],\n",
       "       [117,   0,   2],\n",
       "       [118,   0,   5],\n",
       "       [119,   0,   3],\n",
       "       [120,   0,   4],\n",
       "       [121,   0,   1],\n",
       "       [122,   0,   3],\n",
       "       [123,   0,   1],\n",
       "       [124,   0,   3]])"
      ]
     },
     "execution_count": 19,
     "metadata": {},
     "output_type": "execute_result"
    }
   ],
   "source": [
    "epoch_array.events"
   ]
  },
  {
   "cell_type": "code",
   "execution_count": null,
   "metadata": {},
   "outputs": [],
   "source": []
  }
 ],
 "metadata": {
  "kernelspec": {
   "display_name": "Python 3",
   "language": "python",
   "name": "python3"
  },
  "language_info": {
   "codemirror_mode": {
    "name": "ipython",
    "version": 3
   },
   "file_extension": ".py",
   "mimetype": "text/x-python",
   "name": "python",
   "nbconvert_exporter": "python",
   "pygments_lexer": "ipython3",
   "version": "3.8.2"
  }
 },
 "nbformat": 4,
 "nbformat_minor": 4
}
