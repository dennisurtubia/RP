{
 "cells": [
  {
   "cell_type": "markdown",
   "metadata": {},
   "source": [
    "# Trabalho 01 - Experimento SSVEP offline\n",
    "\n",
    "Dennis Felipe Urtubia e Pedro Perozin"
   ]
  },
  {
   "cell_type": "markdown",
   "metadata": {},
   "source": [
    "# Carregamento dos dados, labels e descritor"
   ]
  },
  {
   "cell_type": "code",
   "execution_count": 8,
   "metadata": {},
   "outputs": [
    {
     "name": "stdout",
     "output_type": "stream",
     "text": [
      "Estruturas => dados (125, 257, 1205) labels (125,)\n",
      "[4 2 3 5 1 2 5 4 2 3 1 5 4 3 2 4 1 2 5 3 4 1 3 1 3 4 2 3 5 1 2 5 4 2 3 1 5\n",
      " 4 3 2 4 1 2 5 3 4 1 3 1 3 4 2 3 5 1 2 5 4 2 3 1 5 4 3 2 4 1 2 5 3 4 1 3 1\n",
      " 3 4 2 3 5 1 2 5 4 2 3 1 5 4 3 2 4 1 2 5 3 4 1 3 1 3 4 2 3 5 1 2 5 4 2 3 1\n",
      " 5 4 3 2 4 1 2 5 3 4 1 3 1 3]\n",
      "{'5': 6.66, '4': 7.5, '3': 8.57, '2': 10.0, '1': 12.0}\n"
     ]
    }
   ],
   "source": [
    "import numpy as np\n",
    "import json\n",
    "import mne\n",
    "import scipy\n",
    "import matplotlib\n",
    "\n",
    "\n",
    "from scipy.signal import stft\n",
    "from sklearn import metrics\n",
    "from sklearn.model_selection import GridSearchCV\n",
    "\n",
    "data = np.load('files/data.npy')\n",
    "labels = np.load('files/labels.npy')\n",
    "\n",
    "desc_file = open('files/descriptor.json')\n",
    "descriptor = json.loads(desc_file.read())\n",
    "desc_file.close()\n",
    "\n",
    "print('Estruturas => dados', data.shape, 'labels', labels.shape)\n",
    "print(labels)\n",
    "\n",
    "print(descriptor['frequencies'])"
   ]
  },
  {
   "cell_type": "markdown",
   "metadata": {},
   "source": [
    "# Criação do EpochsArray"
   ]
  },
  {
   "cell_type": "code",
   "execution_count": 9,
   "metadata": {},
   "outputs": [
    {
     "name": "stdout",
     "output_type": "stream",
     "text": [
      "125 matching events found\n",
      "No baseline correction applied\n",
      "Not setting metadata\n",
      "0 projection items activated\n",
      "0 bad epochs dropped\n"
     ]
    }
   ],
   "source": [
    "data = data[:,:256,:]\n",
    "\n",
    "trial_duration = 5\n",
    "sampling_frequency = data.shape[-1] / trial_duration\n",
    "montage = mne.channels.make_standard_montage('EGI_256')\n",
    "ch_names = data.shape[1]\n",
    "ch_types = 'eeg'\n",
    "\n",
    "# primeiramente devemos criar o objeto info\n",
    "info = mne.create_info(montage.ch_names, sampling_frequency, ch_types)\n",
    "\n",
    "# definindo a montagem do experimento\n",
    "info.set_montage(montage)\n",
    "\n",
    "# por fim a criação do EpochsArray\n",
    "events = np.array([[index, 0, event] for index, event in enumerate(labels)])\n",
    "# objeto MNE epoch\n",
    "epoch = mne.EpochsArray(data, info, events)"
   ]
  },
  {
   "cell_type": "markdown",
   "metadata": {},
   "source": [
    "# Aplicando filtros espaciais"
   ]
  },
  {
   "cell_type": "code",
   "execution_count": 10,
   "metadata": {},
   "outputs": [
    {
     "name": "stdout",
     "output_type": "stream",
     "text": [
      "Setting up band-pass filter from 5 - 14 Hz\n",
      "\n",
      "FIR filter parameters\n",
      "---------------------\n",
      "Designing a one-pass, zero-phase, non-causal bandpass filter:\n",
      "- Windowed time-domain design (firwin) method\n",
      "- Hamming window with 0.0194 passband ripple and 53 dB stopband attenuation\n",
      "- Lower passband edge: 5.00\n",
      "- Lower transition bandwidth: 2.00 Hz (-6 dB cutoff frequency: 4.00 Hz)\n",
      "- Upper passband edge: 14.00 Hz\n",
      "- Upper transition bandwidth: 3.50 Hz (-6 dB cutoff frequency: 15.75 Hz)\n",
      "- Filter length: 399 samples (1.656 sec)\n",
      "\n",
      "Setting up band-pass filter from 5 - 14 Hz\n",
      "\n",
      "FIR filter parameters\n",
      "---------------------\n",
      "Designing a one-pass, zero-phase, non-causal bandpass filter:\n",
      "- Windowed time-domain design (firwin) method\n",
      "- Hamming window with 0.0194 passband ripple and 53 dB stopband attenuation\n",
      "- Lower passband edge: 5.00\n",
      "- Lower transition bandwidth: 2.00 Hz (-6 dB cutoff frequency: 4.00 Hz)\n",
      "- Upper passband edge: 14.00 Hz\n",
      "- Upper transition bandwidth: 3.50 Hz (-6 dB cutoff frequency: 15.75 Hz)\n",
      "- Filter length: 399 samples (1.656 sec)\n",
      "\n",
      "Setting up band-pass filter from 5 - 14 Hz\n",
      "\n",
      "FIR filter parameters\n",
      "---------------------\n",
      "Designing a one-pass, zero-phase, non-causal bandpass filter:\n",
      "- Windowed time-domain design (firwin) method\n",
      "- Hamming window with 0.0194 passband ripple and 53 dB stopband attenuation\n",
      "- Lower passband edge: 5.00\n",
      "- Lower transition bandwidth: 2.00 Hz (-6 dB cutoff frequency: 4.00 Hz)\n",
      "- Upper passband edge: 14.00 Hz\n",
      "- Upper transition bandwidth: 3.50 Hz (-6 dB cutoff frequency: 15.75 Hz)\n",
      "- Filter length: 399 samples (1.656 sec)\n",
      "\n",
      "Setting up band-pass filter from 5 - 14 Hz\n",
      "\n",
      "FIR filter parameters\n",
      "---------------------\n",
      "Designing a one-pass, zero-phase, non-causal bandpass filter:\n",
      "- Windowed time-domain design (firwin) method\n",
      "- Hamming window with 0.0194 passband ripple and 53 dB stopband attenuation\n",
      "- Lower passband edge: 5.00\n",
      "- Lower transition bandwidth: 2.00 Hz (-6 dB cutoff frequency: 4.00 Hz)\n",
      "- Upper passband edge: 14.00 Hz\n",
      "- Upper transition bandwidth: 3.50 Hz (-6 dB cutoff frequency: 15.75 Hz)\n",
      "- Filter length: 399 samples (1.656 sec)\n",
      "\n",
      "Setting up band-pass filter from 5 - 14 Hz\n",
      "\n",
      "FIR filter parameters\n",
      "---------------------\n",
      "Designing a one-pass, zero-phase, non-causal bandpass filter:\n",
      "- Windowed time-domain design (firwin) method\n",
      "- Hamming window with 0.0194 passband ripple and 53 dB stopband attenuation\n",
      "- Lower passband edge: 5.00\n",
      "- Lower transition bandwidth: 2.00 Hz (-6 dB cutoff frequency: 4.00 Hz)\n",
      "- Upper passband edge: 14.00 Hz\n",
      "- Upper transition bandwidth: 3.50 Hz (-6 dB cutoff frequency: 15.75 Hz)\n",
      "- Filter length: 399 samples (1.656 sec)\n",
      "\n",
      "Setting up band-pass filter from 5 - 14 Hz\n",
      "\n",
      "FIR filter parameters\n",
      "---------------------\n",
      "Designing a one-pass, zero-phase, non-causal bandpass filter:\n",
      "- Windowed time-domain design (firwin) method\n",
      "- Hamming window with 0.0194 passband ripple and 53 dB stopband attenuation\n",
      "- Lower passband edge: 5.00\n",
      "- Lower transition bandwidth: 2.00 Hz (-6 dB cutoff frequency: 4.00 Hz)\n",
      "- Upper passband edge: 14.00 Hz\n",
      "- Upper transition bandwidth: 3.50 Hz (-6 dB cutoff frequency: 15.75 Hz)\n",
      "- Filter length: 399 samples (1.656 sec)\n",
      "\n",
      "Setting up band-pass filter from 5 - 14 Hz\n",
      "\n",
      "FIR filter parameters\n",
      "---------------------\n",
      "Designing a one-pass, zero-phase, non-causal bandpass filter:\n",
      "- Windowed time-domain design (firwin) method\n",
      "- Hamming window with 0.0194 passband ripple and 53 dB stopband attenuation\n",
      "- Lower passband edge: 5.00\n",
      "- Lower transition bandwidth: 2.00 Hz (-6 dB cutoff frequency: 4.00 Hz)\n",
      "- Upper passband edge: 14.00 Hz\n",
      "- Upper transition bandwidth: 3.50 Hz (-6 dB cutoff frequency: 15.75 Hz)\n",
      "- Filter length: 399 samples (1.656 sec)\n",
      "\n",
      "Setting up band-pass filter from 5 - 14 Hz\n",
      "\n",
      "FIR filter parameters\n",
      "---------------------\n",
      "Designing a one-pass, zero-phase, non-causal bandpass filter:\n",
      "- Windowed time-domain design (firwin) method\n",
      "- Hamming window with 0.0194 passband ripple and 53 dB stopband attenuation\n",
      "- Lower passband edge: 5.00\n",
      "- Lower transition bandwidth: 2.00 Hz (-6 dB cutoff frequency: 4.00 Hz)\n",
      "- Upper passband edge: 14.00 Hz\n",
      "- Upper transition bandwidth: 3.50 Hz (-6 dB cutoff frequency: 15.75 Hz)\n",
      "- Filter length: 399 samples (1.656 sec)\n",
      "\n",
      "Setting up band-pass filter from 5 - 14 Hz\n",
      "\n",
      "FIR filter parameters\n",
      "---------------------\n",
      "Designing a one-pass, zero-phase, non-causal bandpass filter:\n",
      "- Windowed time-domain design (firwin) method\n",
      "- Hamming window with 0.0194 passband ripple and 53 dB stopband attenuation\n",
      "- Lower passband edge: 5.00\n",
      "- Lower transition bandwidth: 2.00 Hz (-6 dB cutoff frequency: 4.00 Hz)\n",
      "- Upper passband edge: 14.00 Hz\n",
      "- Upper transition bandwidth: 3.50 Hz (-6 dB cutoff frequency: 15.75 Hz)\n",
      "- Filter length: 399 samples (1.656 sec)\n",
      "\n",
      "Setting up band-pass filter from 5 - 14 Hz\n",
      "\n",
      "FIR filter parameters\n",
      "---------------------\n",
      "Designing a one-pass, zero-phase, non-causal bandpass filter:\n",
      "- Windowed time-domain design (firwin) method\n",
      "- Hamming window with 0.0194 passband ripple and 53 dB stopband attenuation\n",
      "- Lower passband edge: 5.00\n",
      "- Lower transition bandwidth: 2.00 Hz (-6 dB cutoff frequency: 4.00 Hz)\n",
      "- Upper passband edge: 14.00 Hz\n",
      "- Upper transition bandwidth: 3.50 Hz (-6 dB cutoff frequency: 15.75 Hz)\n",
      "- Filter length: 399 samples (1.656 sec)\n",
      "\n"
     ]
    }
   ],
   "source": [
    "channels = ['E108', 'E109', 'E116', 'E125', 'E118', 'E117', 'E126', 'E139', 'E127', 'E138', 'E140', 'E150', 'E151']\n",
    "\n",
    "filtered_epoch = epoch.copy().pick_channels(channels)\n",
    "\n",
    "for i in range(10):\n",
    "    filtered_epoch.filter(l_freq = 5.0, h_freq = 14.0)\n",
    "\n",
    "# CAR\n",
    "# mne.set_eeg_reference(filtered_epoch, ref_channels=channels)"
   ]
  },
  {
   "cell_type": "markdown",
   "metadata": {},
   "source": [
    "# Extração de características\n",
    "\n",
    "O método `psd_multitaper` nos retorna as características já no domínio da frequência, sem precisar passar por o método stft, por exemplo."
   ]
  },
  {
   "cell_type": "code",
   "execution_count": 11,
   "metadata": {},
   "outputs": [
    {
     "name": "stdout",
     "output_type": "stream",
     "text": [
      "    Using multitaper spectrum estimation with 7 DPSS windows\n",
      "Shape dos dados: (125, 13, 603)\n"
     ]
    }
   ],
   "source": [
    "X, _ = mne.time_frequency.psd_multitaper(filtered_epoch)\n",
    "print('Shape dos dados:', X.shape)"
   ]
  },
  {
   "cell_type": "markdown",
   "metadata": {},
   "source": [
    "## Finalizando o vetor de características"
   ]
  },
  {
   "cell_type": "code",
   "execution_count": 12,
   "metadata": {},
   "outputs": [
    {
     "name": "stdout",
     "output_type": "stream",
     "text": [
      "Shape dos dados: (125, 7839)\n"
     ]
    }
   ],
   "source": [
    "X = X.reshape(X.shape[0], X.shape[1] * X.shape[2])\n",
    "\n",
    "print('Shape dos dados:', X.shape)"
   ]
  },
  {
   "cell_type": "markdown",
   "metadata": {},
   "source": [
    "## Adaptação do vetor de labels"
   ]
  },
  {
   "cell_type": "code",
   "execution_count": 13,
   "metadata": {},
   "outputs": [
    {
     "name": "stdout",
     "output_type": "stream",
     "text": [
      "Shape original dos labels (125,)\n"
     ]
    }
   ],
   "source": [
    "y = np.load('files/labels.npy')\n",
    "print('Shape original dos labels', y.shape)\n",
    "\n",
    "# size = int(X.shape[0] / y.shape[0])\n",
    "# y = np.concatenate([y for i in range(size)])\n",
    "# print('Shape final dos labels', y.shape)"
   ]
  },
  {
   "cell_type": "markdown",
   "metadata": {},
   "source": [
    "# Classificação"
   ]
  },
  {
   "cell_type": "markdown",
   "metadata": {},
   "source": [
    "### SVM - Support Vector Machine\n",
    "\n",
    "Foi utilizado o método `GridSearchCV` da biblioteca `sklearn` para testar o classificador com diversos parâmetros.\n",
    "É disposto apenas o melhor resultado do experimento."
   ]
  },
  {
   "cell_type": "code",
   "execution_count": 14,
   "metadata": {},
   "outputs": [
    {
     "name": "stdout",
     "output_type": "stream",
     "text": [
      "Melhor resultado linear 0.3368421052631579 {'C': 0.01, 'kernel': 'linear'}\n",
      "Melhor resultado poly 0.3149122807017543 {'C': 0.01, 'gamma': 10, 'kernel': 'poly'}\n"
     ]
    }
   ],
   "source": [
    "from sklearn.svm import SVC\n",
    "from sklearn.model_selection import (StratifiedShuffleSplit, GridSearchCV)\n",
    "\n",
    "parameters_linear = {\n",
    "    'kernel': ['linear'],\n",
    "    'C':[0.01, 0.1, 1, 10, 100, 1000]\n",
    "}\n",
    "\n",
    "parameters_poly = {\n",
    "    'kernel': ['poly'],\n",
    "    'C':[0.01, 0.1, 1, 10, 100, 1000],\n",
    "    'gamma': [10, 1, 0.1, 0.01, 0.001, 0.0001, 0.00001, 0.000001]\n",
    "}\n",
    "\n",
    "sss = StratifiedShuffleSplit(n_splits=30, test_size=0.3)\n",
    "\n",
    "grid_search_linear = GridSearchCV(SVC(), parameters_linear, n_jobs=-1, cv=sss)\n",
    "grid_search_poly = GridSearchCV(SVC(), parameters_poly, n_jobs=-1, cv=sss)\n",
    "\n",
    "grid_search_linear.fit(X, y)\n",
    "grid_search_poly.fit(X, y)\n",
    "\n",
    "print('Melhor resultado linear', grid_search_linear.best_score_, grid_search_linear.best_params_)\n",
    "print('Melhor resultado poly', grid_search_poly.best_score_, grid_search_poly.best_params_)"
   ]
  }
 ],
 "metadata": {
  "kernelspec": {
   "display_name": "Python 3",
   "language": "python",
   "name": "python3"
  },
  "language_info": {
   "codemirror_mode": {
    "name": "ipython",
    "version": 3
   },
   "file_extension": ".py",
   "mimetype": "text/x-python",
   "name": "python",
   "nbconvert_exporter": "python",
   "pygments_lexer": "ipython3",
   "version": "3.8.2"
  }
 },
 "nbformat": 4,
 "nbformat_minor": 4
}
