{
 "cells": [
  {
   "cell_type": "markdown",
   "metadata": {},
   "source": [
    "1. Como saber quais são os eletrodos a serem utilizados como referência?\n",
    "2. A média de TODOS os eletrodos é um bom chute?\n",
    "3. Como utilizar as informações de retorno do método set_eeg_reference"
   ]
  },
  {
   "cell_type": "markdown",
   "metadata": {},
   "source": [
    "### Tarefas\n",
    "1 - Nas aulas passadas levantamos a possibilidade de que a identificação dos eventos (marcadores) não estão mapeados para a frequência correta. Utilizando os artifícios do método plot_psd e o ajuste de seus parâmetros, realize diversos plots com diferentes eventos e trials para tentar identificar nos gráficos, o mapeamento correto;\n",
    "\n",
    "1.1 - Altere a quantidade e a localização dos eletrodos (canais) para ampliar a base de conhecimento e obter melhores informações.\n",
    "\n",
    "2 - É evidente (pelo menos para o professor) que as frequências de interferência da energia elétrica não estão contribuindo para o conhecimento dos dados. Além disso, frequências abaixo e acima dos alvos evocados também não contribuem. Estudem o método filter presente no objeto EpochArray/EpochFIF para que possamos \"clarear\" nossos dados com a aplicação de filtros temporais. Faça testes para matar a curiosidade e impressionar o professor :-)\n",
    "\n",
    "3 - Falamos em sala de aula que é inviável \"chutarmos\" quais eletrodos melhor contribuem para nosso experimento quando são muitos! Faça um estudo bibliográfico sobre filtros espaciais em dados EEG. Levante de possíveis algoritmos que podem ser utilizados para discutirmos em aula.\n",
    "\n",
    "3.1. Quem é o \"CAR\" dentro do objeto MNE?\n",
    "\n",
    "R: CAR, Common avarage reference, é uma tecnica para média comum a um eletrodo referência."
   ]
  },
  {
   "cell_type": "markdown",
   "metadata": {},
   "source": [
    "### Perguntas"
   ]
  },
  {
   "cell_type": "markdown",
   "metadata": {},
   "source": [
    "\n",
    "1) Nem sempre os canais são vistos como características. Uma outra forma é adicionar os canais às amostras (reduzindo a quantidade de características e aumentando a quantidade de amostras). O resultado disso deve ser avaliado.\n",
    "\n",
    "2) É comum a aplicação de algum algoritmo para reduzir todos os canais ou transformar apenas em um (que é o caso de aplicar a média de todos os eletrodos/canais).\n",
    "\n",
    "R: Sim, como foi feito e demonstrado, foi adicionado todos os vetores de caracteristicas em uma lista única referênte as extrações da região que está sendo analisada. Essa técnica é utilizada para reduzir e \n",
    "simplificar a análise do classificador\n",
    "\n",
    "3) Adicionar características ruins confundem o resultado? Características que não estão relacionadas ao domínio do problema pode ser ruim? Isso deve ser avaliado...\n",
    "\n",
    "R: Sim, pois estamos analisado a região parietal, para-ociptal, ociptal, referente a visão do indivíduo.\n",
    " Caso for aplicado um calculo de média em regiões que não processam informações da visão, podem ser considerados ruídos nos resultados."
   ]
  }
 ],
 "metadata": {
  "kernelspec": {
   "display_name": "Python 3",
   "language": "python",
   "name": "python3"
  },
  "language_info": {
   "codemirror_mode": {
    "name": "ipython",
    "version": 3
   },
   "file_extension": ".py",
   "mimetype": "text/x-python",
   "name": "python",
   "nbconvert_exporter": "python",
   "pygments_lexer": "ipython3",
   "version": "3.8.2"
  }
 },
 "nbformat": 4,
 "nbformat_minor": 4
}
